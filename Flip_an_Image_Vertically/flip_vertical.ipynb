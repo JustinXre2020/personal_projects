{
 "cells": [
  {
   "cell_type": "code",
   "execution_count": 10,
   "metadata": {},
   "outputs": [
    {
     "name": "stdout",
     "output_type": "stream",
     "text": [
      "<class 'str'>\n"
     ]
    }
   ],
   "source": [
    "import pandas as pd\n",
    "df= pd.read_csv(\"https://data.illinois.gov/datastore/dump/23c0b71d-73c2-4d8d-84e4-105281854210\")\n",
    "l = [str(i) for i in df['Respondant_Address']]\n",
    "print(type(l[0]))"
   ]
  }
 ],
 "metadata": {
  "interpreter": {
   "hash": "fcf822224fc307be0304c2a7ba6441cb4a4e3fb6f8de424ba36cd756561699b8"
  },
  "kernelspec": {
   "display_name": "Python 3.9.6 64-bit",
   "name": "python3"
  },
  "language_info": {
   "codemirror_mode": {
    "name": "ipython",
    "version": 3
   },
   "file_extension": ".py",
   "mimetype": "text/x-python",
   "name": "python",
   "nbconvert_exporter": "python",
   "pygments_lexer": "ipython3",
   "version": "3.9.6"
  },
  "orig_nbformat": 4
 },
 "nbformat": 4,
 "nbformat_minor": 2
}
